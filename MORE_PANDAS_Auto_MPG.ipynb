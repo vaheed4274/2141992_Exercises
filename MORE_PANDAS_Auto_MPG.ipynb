{
 "cells": [
  {
   "cell_type": "markdown",
   "metadata": {
    "colab_type": "text",
    "id": "view-in-github"
   },
   "source": [
    "<a href=\"https://colab.research.google.com/github/a-forty-two/COG_GN22CDBDS001_MARCH_22/blob/main/MORE_PANDAS_Auto_MPG.ipynb\" target=\"_parent\"><img src=\"https://colab.research.google.com/assets/colab-badge.svg\" alt=\"Open In Colab\"/></a>"
   ]
  },
  {
   "cell_type": "markdown",
   "metadata": {
    "id": "zeX0eDXRxdg6"
   },
   "source": [
    "# MPG Cars"
   ]
  },
  {
   "cell_type": "markdown",
   "metadata": {
    "id": "gZk-UJbYxdg-"
   },
   "source": [
    "### Introduction:\n",
    "\n",
    "The following exercise utilizes data from [UC Irvine Machine Learning Repository](https://archive.ics.uci.edu/ml/datasets/Auto+MPG)\n",
    "\n",
    "### Step 1. Import the necessary libraries"
   ]
  },
  {
   "cell_type": "markdown",
   "metadata": {},
   "source": [
    "#### We can import packages using import command. In this program we are impoting pandas and random packages.The pandas package is used read data and perform dataframe opeartion. The random package is used to generate random numbers in a specified range."
   ]
  },
  {
   "cell_type": "code",
   "execution_count": 1,
   "metadata": {},
   "outputs": [],
   "source": [
    "import pandas as pd\n",
    "import random"
   ]
  },
  {
   "cell_type": "markdown",
   "metadata": {
    "id": "6o7DIoiTxdhA"
   },
   "source": [
    "### Step 2. Import the first dataset [cars1](https://raw.githubusercontent.com/guipsamora/pandas_exercises/master/05_Merge/Auto_MPG/cars1.csv) and [cars2](https://raw.githubusercontent.com/guipsamora/pandas_exercises/master/05_Merge/Auto_MPG/cars2.csv).  "
   ]
  },
  {
   "cell_type": "code",
   "execution_count": 2,
   "metadata": {
    "id": "6eThsl46xjNY"
   },
   "outputs": [],
   "source": [
    "# https://raw.githubusercontent.com/a-forty-two/COG_GN22CDBDS001_MARCH_22/main/cars1.csv\n",
    "# https://raw.githubusercontent.com/a-forty-two/COG_GN22CDBDS001_MARCH_22/main/cars2.csv"
   ]
  },
  {
   "cell_type": "markdown",
   "metadata": {},
   "source": [
    "#### read_csv() method in pandas is used to read csv files. It returns dataframe object. After reading we are assigning to variables cars1 and cars2."
   ]
  },
  {
   "cell_type": "markdown",
   "metadata": {
    "id": "9XdlJPXzxdhB"
   },
   "source": [
    "   ### Step 3. Assign each to a variable called cars1 and cars2"
   ]
  },
  {
   "cell_type": "code",
   "execution_count": 3,
   "metadata": {
    "id": "GPz7DuOLxdhB"
   },
   "outputs": [
    {
     "name": "stdout",
     "output_type": "stream",
     "text": [
      "    mpg  cylinders  displacement horsepower  weight  acceleration  model  \\\n",
      "0  18.0          8           307        130    3504          12.0     70   \n",
      "1  15.0          8           350        165    3693          11.5     70   \n",
      "2  18.0          8           318        150    3436          11.0     70   \n",
      "3  16.0          8           304        150    3433          12.0     70   \n",
      "4  17.0          8           302        140    3449          10.5     70   \n",
      "\n",
      "   origin                        car  Unnamed: 9  Unnamed: 10  Unnamed: 11  \\\n",
      "0       1  chevrolet chevelle malibu         NaN          NaN          NaN   \n",
      "1       1          buick skylark 320         NaN          NaN          NaN   \n",
      "2       1         plymouth satellite         NaN          NaN          NaN   \n",
      "3       1              amc rebel sst         NaN          NaN          NaN   \n",
      "4       1                ford torino         NaN          NaN          NaN   \n",
      "\n",
      "   Unnamed: 12  Unnamed: 13  \n",
      "0          NaN          NaN  \n",
      "1          NaN          NaN  \n",
      "2          NaN          NaN  \n",
      "3          NaN          NaN  \n",
      "4          NaN          NaN  \n",
      "    mpg  cylinders  displacement horsepower  weight  acceleration  model  \\\n",
      "0  33.0          4            91         53    1795          17.4     76   \n",
      "1  20.0          6           225        100    3651          17.7     76   \n",
      "2  18.0          6           250         78    3574          21.0     76   \n",
      "3  18.5          6           250        110    3645          16.2     76   \n",
      "4  17.5          6           258         95    3193          17.8     76   \n",
      "\n",
      "   origin                 car  \n",
      "0       3         honda civic  \n",
      "1       1      dodge aspen se  \n",
      "2       1   ford granada ghia  \n",
      "3       1  pontiac ventura sj  \n",
      "4       1       amc pacer d/l  \n"
     ]
    }
   ],
   "source": [
    "cars1 = pd.read_csv('https://raw.githubusercontent.com/a-forty-two/COG_GN22CDBDS001_MARCH_22/main/cars1.csv') \n",
    "cars2 = pd.read_csv('https://raw.githubusercontent.com/a-forty-two/COG_GN22CDBDS001_MARCH_22/main/cars2.csv')\n",
    "print(cars1.head())\n",
    "print(cars2.head())"
   ]
  },
  {
   "cell_type": "markdown",
   "metadata": {
    "id": "OXlLuT7KxdhC"
   },
   "source": [
    "### Step 4. Oops, it seems our first dataset has some unnamed blank columns, fix cars1"
   ]
  },
  {
   "cell_type": "markdown",
   "metadata": {},
   "source": [
    "#### If we observe cars1 dataframe we see columns from 9 to 13 are unnamed to remove them we are selecting first 9 columns using iloc."
   ]
  },
  {
   "cell_type": "code",
   "execution_count": 4,
   "metadata": {
    "id": "txC6GcQ3xdhC"
   },
   "outputs": [
    {
     "data": {
      "text/html": [
       "<div>\n",
       "<style scoped>\n",
       "    .dataframe tbody tr th:only-of-type {\n",
       "        vertical-align: middle;\n",
       "    }\n",
       "\n",
       "    .dataframe tbody tr th {\n",
       "        vertical-align: top;\n",
       "    }\n",
       "\n",
       "    .dataframe thead th {\n",
       "        text-align: right;\n",
       "    }\n",
       "</style>\n",
       "<table border=\"1\" class=\"dataframe\">\n",
       "  <thead>\n",
       "    <tr style=\"text-align: right;\">\n",
       "      <th></th>\n",
       "      <th>mpg</th>\n",
       "      <th>cylinders</th>\n",
       "      <th>displacement</th>\n",
       "      <th>horsepower</th>\n",
       "      <th>weight</th>\n",
       "      <th>acceleration</th>\n",
       "      <th>model</th>\n",
       "      <th>origin</th>\n",
       "      <th>car</th>\n",
       "    </tr>\n",
       "  </thead>\n",
       "  <tbody>\n",
       "    <tr>\n",
       "      <th>0</th>\n",
       "      <td>18.0</td>\n",
       "      <td>8</td>\n",
       "      <td>307</td>\n",
       "      <td>130</td>\n",
       "      <td>3504</td>\n",
       "      <td>12.0</td>\n",
       "      <td>70</td>\n",
       "      <td>1</td>\n",
       "      <td>chevrolet chevelle malibu</td>\n",
       "    </tr>\n",
       "    <tr>\n",
       "      <th>1</th>\n",
       "      <td>15.0</td>\n",
       "      <td>8</td>\n",
       "      <td>350</td>\n",
       "      <td>165</td>\n",
       "      <td>3693</td>\n",
       "      <td>11.5</td>\n",
       "      <td>70</td>\n",
       "      <td>1</td>\n",
       "      <td>buick skylark 320</td>\n",
       "    </tr>\n",
       "    <tr>\n",
       "      <th>2</th>\n",
       "      <td>18.0</td>\n",
       "      <td>8</td>\n",
       "      <td>318</td>\n",
       "      <td>150</td>\n",
       "      <td>3436</td>\n",
       "      <td>11.0</td>\n",
       "      <td>70</td>\n",
       "      <td>1</td>\n",
       "      <td>plymouth satellite</td>\n",
       "    </tr>\n",
       "    <tr>\n",
       "      <th>3</th>\n",
       "      <td>16.0</td>\n",
       "      <td>8</td>\n",
       "      <td>304</td>\n",
       "      <td>150</td>\n",
       "      <td>3433</td>\n",
       "      <td>12.0</td>\n",
       "      <td>70</td>\n",
       "      <td>1</td>\n",
       "      <td>amc rebel sst</td>\n",
       "    </tr>\n",
       "    <tr>\n",
       "      <th>4</th>\n",
       "      <td>17.0</td>\n",
       "      <td>8</td>\n",
       "      <td>302</td>\n",
       "      <td>140</td>\n",
       "      <td>3449</td>\n",
       "      <td>10.5</td>\n",
       "      <td>70</td>\n",
       "      <td>1</td>\n",
       "      <td>ford torino</td>\n",
       "    </tr>\n",
       "  </tbody>\n",
       "</table>\n",
       "</div>"
      ],
      "text/plain": [
       "    mpg  cylinders  displacement horsepower  weight  acceleration  model  \\\n",
       "0  18.0          8           307        130    3504          12.0     70   \n",
       "1  15.0          8           350        165    3693          11.5     70   \n",
       "2  18.0          8           318        150    3436          11.0     70   \n",
       "3  16.0          8           304        150    3433          12.0     70   \n",
       "4  17.0          8           302        140    3449          10.5     70   \n",
       "\n",
       "   origin                        car  \n",
       "0       1  chevrolet chevelle malibu  \n",
       "1       1          buick skylark 320  \n",
       "2       1         plymouth satellite  \n",
       "3       1              amc rebel sst  \n",
       "4       1                ford torino  "
      ]
     },
     "execution_count": 4,
     "metadata": {},
     "output_type": "execute_result"
    }
   ],
   "source": [
    "cars1 = cars1.iloc[:,0:9]\n",
    "cars1.head()"
   ]
  },
  {
   "cell_type": "markdown",
   "metadata": {
    "id": "Cu0zwlMqxdhD"
   },
   "source": [
    "### Step 5. What is the number of observations in each dataset?"
   ]
  },
  {
   "cell_type": "markdown",
   "metadata": {},
   "source": [
    "#### len() function returns numbers of records in a dafrrame."
   ]
  },
  {
   "cell_type": "code",
   "execution_count": 5,
   "metadata": {
    "id": "RYQvsY8YxdhD"
   },
   "outputs": [
    {
     "name": "stdout",
     "output_type": "stream",
     "text": [
      "198\n",
      "200\n"
     ]
    }
   ],
   "source": [
    "print(len(cars1))\n",
    "print(len(cars2))"
   ]
  },
  {
   "cell_type": "markdown",
   "metadata": {
    "id": "54ohJazRxdhE"
   },
   "source": [
    "### Step 6. Join cars1 and cars2 into a single DataFrame called cars"
   ]
  },
  {
   "cell_type": "markdown",
   "metadata": {},
   "source": [
    "#### In pandas we have special function concat() to combine to dataframes either on column or row. If axis=1 specify column, axis=0 specify row.  "
   ]
  },
  {
   "cell_type": "code",
   "execution_count": 6,
   "metadata": {
    "id": "DArHdd61xdhF"
   },
   "outputs": [
    {
     "name": "stdout",
     "output_type": "stream",
     "text": [
      "    mpg  cylinders  displacement horsepower  weight  acceleration  model  \\\n",
      "0  18.0          8           307        130    3504          12.0     70   \n",
      "1  15.0          8           350        165    3693          11.5     70   \n",
      "2  18.0          8           318        150    3436          11.0     70   \n",
      "3  16.0          8           304        150    3433          12.0     70   \n",
      "4  17.0          8           302        140    3449          10.5     70   \n",
      "\n",
      "   origin                        car  \n",
      "0       1  chevrolet chevelle malibu  \n",
      "1       1          buick skylark 320  \n",
      "2       1         plymouth satellite  \n",
      "3       1              amc rebel sst  \n",
      "4       1                ford torino  \n",
      "398\n"
     ]
    }
   ],
   "source": [
    "cars = pd.concat([cars1,cars2],axis=0)\n",
    "print(cars.head())\n",
    "print(len(cars))"
   ]
  },
  {
   "cell_type": "markdown",
   "metadata": {
    "id": "PVZT4IabxdhG"
   },
   "source": [
    "### Step 7. Oops, there is a column missing, called owners. Create a random number Series from 15,000 to 73,000."
   ]
  },
  {
   "cell_type": "markdown",
   "metadata": {},
   "source": [
    "#### To generate a random series we can use sample() in random package. It takes range and size as parameters."
   ]
  },
  {
   "cell_type": "code",
   "execution_count": 7,
   "metadata": {
    "id": "CTT_4ix-xdhG"
   },
   "outputs": [
    {
     "name": "stdout",
     "output_type": "stream",
     "text": [
      "[44635, 55213, 45942, 18714, 40985, 63052, 59360, 29692, 27199, 37615, 59487, 46320, 39509, 64771, 24849, 65831, 43325, 42302, 35983, 16563, 53622, 58065, 62887, 67775, 35146, 16530, 19423, 45290, 68695, 36141, 47930, 54495, 49778, 32964, 65586, 24986, 38491, 72887, 57287, 56419, 15713, 45842, 19995, 45494, 37252, 27807, 68950, 22208, 20799, 58582, 40662, 49322, 33674, 21941, 63839, 34694, 46629, 25639, 22490, 36810, 35054, 19473, 65530, 43718, 53032, 33627, 49670, 29607, 64929, 59826, 18856, 22441, 52750, 34917, 64944, 47441, 72120, 47057, 54723, 32830, 44063, 65491, 40516, 60579, 62105, 64624, 57128, 29100, 37334, 59139, 44876, 61702, 71925, 44742, 56879, 33661, 69656, 21241, 28981, 49716, 25357, 36424, 25372, 64100, 21246, 35026, 33643, 65443, 69027, 53558, 15479, 44176, 35881, 28211, 25487, 71940, 67564, 35467, 62736, 65666, 68365, 20707, 69843, 16561, 48719, 24414, 49395, 16633, 16748, 32303, 52445, 27378, 21119, 65017, 21429, 49724, 54442, 43724, 23434, 64491, 51658, 49054, 54173, 18503, 21473, 17234, 64890, 64958, 35031, 50574, 56714, 17148, 57967, 33866, 55144, 21353, 54336, 64433, 53528, 58306, 30842, 46638, 66316, 35733, 25399, 63580, 54832, 58729, 48190, 67664, 64181, 45978, 32083, 46228, 51753, 21318, 71071, 17082, 70285, 72311, 24936, 15133, 35080, 68142, 33454, 56043, 42289, 23312, 35079, 15014, 18443, 54841, 21882, 61165, 38134, 41581, 22210, 56724, 65844, 21414, 64026, 39770, 52294, 48513, 37181, 62729, 24710, 65721, 66518, 30007, 21491, 26357, 26523, 71240, 64903, 37391, 34260, 69520, 51597, 15205, 53173, 48038, 17254, 55178, 46738, 66268, 66668, 36316, 23495, 18246, 61665, 27968, 70837, 31729, 44498, 23755, 37316, 19868, 39128, 55064, 53943, 72169, 15750, 51931, 41833, 70732, 63199, 36282, 71416, 32434, 44907, 27558, 57879, 58719, 53932, 42088, 33917, 47703, 69238, 48407, 27934, 65839, 18319, 69914, 70210, 26335, 33225, 46998, 64291, 55046, 43623, 15808, 63943, 33938, 63396, 41721, 31508, 62297, 26400, 24566, 32245, 21995, 50024, 59977, 43071, 32444, 40653, 31025, 30972, 33380, 35565, 54738, 68583, 33573, 15788, 72421, 20077, 40173, 16440, 59563, 24201, 28876, 70260, 46337, 64926, 15011, 30011, 22083, 20050, 32634, 51029, 41298, 44142, 59238, 16102, 64260, 65676, 61484, 31581, 17256, 28800, 38703, 23236, 33609, 27046, 37777, 41730, 28097, 29376, 54135, 47015, 56186, 35387, 49493, 54521, 31639, 62154, 53986, 25206, 50908, 50205, 17122, 47626, 47221, 60520, 25580, 47034, 44331, 50223, 58965, 37419, 50564, 22962, 55016, 51696, 27089, 62461, 37638, 27507, 36275, 15680, 24363, 15267, 32240, 53372, 72271, 46799, 41433, 49201, 28089, 57337, 30437, 52556, 62985, 16844, 49930, 59313, 72219, 58586, 63065, 58378, 35822, 42612, 64349, 55428, 37605, 55130, 27878, 43143, 32819, 40559, 42401, 30278, 19535, 19747, 49216, 43671, 33781]\n"
     ]
    }
   ],
   "source": [
    "owners = random.sample(range(15000,73000),len(cars))\n",
    "print(owners)"
   ]
  },
  {
   "cell_type": "markdown",
   "metadata": {
    "id": "bqbBmlxPxdhG"
   },
   "source": [
    "### Step 8. Add the column owners to cars"
   ]
  },
  {
   "cell_type": "code",
   "execution_count": 8,
   "metadata": {
    "id": "dJxRs7tixdhH"
   },
   "outputs": [
    {
     "name": "stdout",
     "output_type": "stream",
     "text": [
      "    mpg  cylinders  displacement horsepower  weight  acceleration  model  \\\n",
      "0  18.0          8           307        130    3504          12.0     70   \n",
      "1  15.0          8           350        165    3693          11.5     70   \n",
      "2  18.0          8           318        150    3436          11.0     70   \n",
      "3  16.0          8           304        150    3433          12.0     70   \n",
      "4  17.0          8           302        140    3449          10.5     70   \n",
      "\n",
      "   origin                        car  owners  \n",
      "0       1  chevrolet chevelle malibu   44635  \n",
      "1       1          buick skylark 320   55213  \n",
      "2       1         plymouth satellite   45942  \n",
      "3       1              amc rebel sst   18714  \n",
      "4       1                ford torino   40985  \n"
     ]
    }
   ],
   "source": [
    "cars['owners'] = owners\n",
    "print(cars.head())"
   ]
  },
  {
   "cell_type": "code",
   "execution_count": null,
   "metadata": {},
   "outputs": [],
   "source": []
  }
 ],
 "metadata": {
  "anaconda-cloud": {},
  "colab": {
   "collapsed_sections": [],
   "include_colab_link": true,
   "name": "MORE_PANDAS_Auto_MPG.ipynb",
   "provenance": []
  },
  "kernelspec": {
   "display_name": "Python 3 (ipykernel)",
   "language": "python",
   "name": "python3"
  },
  "language_info": {
   "codemirror_mode": {
    "name": "ipython",
    "version": 3
   },
   "file_extension": ".py",
   "mimetype": "text/x-python",
   "name": "python",
   "nbconvert_exporter": "python",
   "pygments_lexer": "ipython3",
   "version": "3.8.6"
  }
 },
 "nbformat": 4,
 "nbformat_minor": 1
}
